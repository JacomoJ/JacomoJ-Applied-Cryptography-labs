{
 "cells": [
  {
   "cell_type": "code",
   "execution_count": 28,
   "metadata": {},
   "outputs": [],
   "source": [
    "def xor(X, Y):\n",
    "    return bytes(x ^ y for (x, y) in zip(X, Y))"
   ]
  },
  {
   "cell_type": "code",
   "execution_count": 3,
   "metadata": {},
   "outputs": [
    {
     "data": {
      "text/plain": [
       "[b'Mh\\xf2\\x1b\\xf5\\x15\\xdc\\xe5~\\xe7\\x8afrLM\\x9fT\\x16\\xfa\\xdc\\x8dAvR\\xd8\\xcb\\xe1\\xce\\x80\\x80\\xfc\\x13+\\xecd<\\xc3\\x04`\\xf9V\\x16i\\xcc\\x16\\xd2xj\\xf8F\\xa1,a\\x1cm\\xc1PPJ\"\\xb1\\x8c\\x95\\xc9\\xe3M\\xd8\\xf0\\xef\\xb1\\xaa\\x0f\\xe0\\xec\\x8a\\x99k\\x03\\xeeV\\xb2{\\xac[\\xbcpA:_\\xa2\\x9d\\xe9-\\xfe\\xe2\\x80\\'5\\xe34\\xc4O\\x02nl\\xbb\\xf9\\xb4\\x0fe\\xa0\\xfa\\xf3\\xbf\\x11\\xdd\\xfbu\\x08;',\n",
       " b\"A~\\xb3\\x06\\xf3\\x17\\xc4\\xf0{\\xf8\\x8c'qEU\\x99@E\\xa9\\xc8\\xcfQpB\\xdc\\xca\\xf4\\xc9\\x8e\\x82\\xa5\\x036\\xbcx6\\x91\\x13%\\xeaK\\x10~\\x89B\\xceu/\\xb4P\\xba)f\\x00$\\xdaC\\x04W%\\xba\\x8c\\x9f\\xc0\\xeaR\\xd6\\xe0\\xee\\xeb\\xf9@\\xef\\xfd\\x8a\\x99|\\x03\\xe4\\x05\\xbbp\\xe2^\\xb18\\x15=\\\\\\xa2\\x9c\\xf2-\\xfe\\xe6\\x83~#\\xac-\\xc5\\x16\\x1cr>\\xbb\\xbc\\xe7\\x18b\\xb3\\xbf\\xea\\xbb\\x06\\x98\\xa8j\\t~\",\n",
       " b'\\x04e\\xa0\\x12\\xea\\r\\xc4\\xeas\\xfb\\x9btd\\tU\\x9fYS\\xfa\\x89\\x9aB\"O\\xc4\\xdb\\xb5\\xc4\\x86\\x9e\\xb4\\x150\\xe8i!\\xc5W)\\xe0\\x1e\\x1d;\\xcaY\\xcaeb\\xb6F\\xf8ne\\x00a\\xc7@\\x04Mm\\xb6\\xdf\\xd4\\xd1\\xfb@\\x99\\xfe\\xef\\xab\\xbe[\\xe9\\xbe\\x80\\xdf(\\x1f\\xe9@\\xf7~\\xe9@\\xb2?G6\\x14\\xa2\\x9c\\xf2-\\xb0\\xad\\x83f7\\xab\\x7f\\xc2Y\\x19ts\\xb1\\xf5\\xf7\\x1ac\\xe5\\xb8\\xfd\\xfe\\x16\\xc6\\xed\\x7f\\x15~',\n",
       " b'@&\\xb3\\x18\\xba\\r\\xcd\\xe12\\xf4\\x8bwxLK\\x82RN\\xfd\\x89\\x80T\"Z\\x8c\\xd3\\xfa\\xc9\\x80\\x8f\\xb0\\x00*\\xfdn<\\xc5\\x1e#\\xaeM\\x06y\\xdaB\\xcfdz\\xac\\\\\\xbb 2\\x0bm\\xc5MAQc\\xff\\xcd\\x87\\x85\\xe0P\\xda\\xfa\\xa6\\xe5\\xbcN\\xe2\\xf6\\xcf\\xdag\\x07\\xf4H\\xb95\\xefX\\xabpW7\\x1a\\xe3\\x9c\\xee)\\xbd\\xe6\\x83ct\\xb46\\xd5^Ugl\\xba\\xa4\\xe1\\x1ec\\xa6\\xa3\\xb8\\xbf\\x0c\\xd5\\xe4g\\x12r',\n",
       " b\"W(\\xf2\\x18\\xf3\\x14\\xcc\\xe8s\\xe5\\x8e~<\\tN\\x9eRD\\xec\\x89\\x8e\\x12pT\\xd8\\xd1\\xe7\\x87\\x9c\\x9a\\xae\\x15#\\xf1,:\\xd8\\x07(\\xebLSv\\xc8U\\xceya\\xbd\\x15\\xbc/aHf\\xd0@J\\x038\\xac\\xc9\\x90\\x89\\xb3Q\\xd1\\xfb\\xf9\\xe5\\xb4J\\xf5\\xf6\\x80\\xdd(\\x06\\xe0\\\\\\xf7t\\xe0U\\xaa'\\x15&R\\xe7\\xc8\\xfe-\\xba\\xf8\\x85s=\\xac1\\x81Y\\x13!j\\xb7\\xb0\\xb4\\x17h\\xab\\xbd\\xec\\xb6B\\xdb\\xee>\\x08u\",\n",
       " b'@o\\xa4\\x02\\xfe\\x0c\\xc4\\xe82\\xe5\\x8ds\\x7f[J\\xd8\\x17B\\xe1\\xcc\\xcfYcH\\xc5\\xcd\\xfe\\xce\\xcf\\x8b\\xa4\\x11/\\xf5b8\\xc5\\x1e/\\xe0\\x1e\\x1au\\xdfY\\xcafj\\xab\\x15\\xb8!}\\x03m\\xdbB\\x04E\"\\xad\\x8c\\x87\\xd1\\xe1L\\xd7\\xf5\\xf9\\xe5\\xb6I\\xa1\\xfd\\x87\\xd8z\\n\\xe2Q\\xb2g\\xff\\x19\\xb18T&\\x1a\\xe3\\x9a\\xffh\\xac\\xe8\\x96b5\\xb7:\\xc5\\x16\\x1co>\\xab\\xbd\\xf1[n\\xac\\xaa\\xf0\\xbb\\x10\\xc0\\xedf\\x155',\n",
       " b'\\x04r\\xba\\x0e\\xba\\n\\xd1\\xf6{\\xf9\\x85t0ZQ\\x99BZ\\xed\\x89\\x8dW\"O\\xc4\\xcc\\xf0\\xc2\\xcf\\x8d\\xb4\\x110\\xfdo-\\xd4\\x053\\xaeR\\x1cu\\xce\\x16\\xc9b/\\xb5Z\\xa6+2\\x0ek\\xc7\\x05PK(\\xff\\xc9\\x8c\\xc4\\xfeL\\xd7\\xf3\\xfe\\xac\\xb6A\\xa1\\xea\\x80\\x99j\\x0e\\xa1V\\xa2v\\xef\\\\\\xb6#S\\'V\\xac\\xc8\\xee \\xbb\\xe3\\xca\\' \\xab:\\x81R\\x1crj\\xbe\\xbb\\xf7\\x1e~\\xe5\\xb8\\xfd\\xaa\\x15\\xd1\\xedpAx',\n",
       " b'Kh\\xa1\\x0e\\xf9\\x0c\\xd1\\xedd\\xf2\\xc2hsJL\\x84ES\\xe7\\xca\\x8aA\"T\\xca\\x9e\\xe1\\xcf\\x8a\\xce\\xaf\\x040\\xf5b>\\xc2W!\\xfc[Sw\\xc0]\\xc3|v\\xf8A\\xbbnp\\r$\\xd8PHW$\\xaf\\xc0\\x91\\xd6\\xb3J\\xdf\\xb2\\xfe\\xad\\xbc\\x0f\\xed\\xfb\\x81\\xde|\\x03\\xa1J\\xb15\\xf8Q\\xa0p^7C\\xf5\\x87\\xe8,\\xf0\\xad\\x92o!\\xb0\\x7f\\xc7_\\x1bew\\xb1\\xb2\\xb4\\x16b\\xb7\\xbf\\xb8\\xac\\x07\\xc4\\xed\\x7f\\x15~',\n",
       " b'@&\\xa1\\x1f\\xe8\\x10\\xcb\\xe3a\\xb7\\x8cfb[V\\x81D\\x16\\xed\\xc6\\x98\\\\\"O\\xc4\\xdb\\xb5\\xd7\\x80\\x9d\\xaf\\x19 \\xf0iy\\xdd\\x12.\\xe9J\\x1bh\\x89Y\\xc00{\\xb0P\\xf4%w\\x11s\\xdaW@\\x0fm\\xac\\xc5\\x9a\\xc6\\xf6\\x05\\xce\\xf7\\xaa\\xa6\\xb8A\\xa1\\xea\\x8e\\xd2mK\\xf5M\\xb25\\xebK\\xa01A7I\\xf6\\xc8\\xf9\\'\\xb3\\xe0\\x89it\\xa76\\xd7_\\x06nl\\xff\\xba\\xf2[l\\xa9\\xb6\\xb8\\xaa\\n\\xd1\\xa8z\\x08h',\n",
       " b\"Pg\\xbc\\x08\\xff\\n\\x8b\\xa4f\\xff\\x87'bLX\\x85XX\\xa9\\xdd\\x87[q\\x1b\\xd8\\xdb\\xe6\\xd3\\xcf\\x99\\xb3\\x02)\\xef,0\\xc2W4\\xe6_\\x07;\\xc0P\\x86q/\\xaaP\\xa4+s\\x1ca\\xd1\\x05WW?\\xb6\\xc2\\x93\\x85\\xfcF\\xda\\xe7\\xf8\\xb6\\xf9F\\xef\\xbe\\x9b\\xd1mK\\xf1I\\xb6|\\xe2M\\xa0(A~\\x1a\\xe3\\x86\\xfeh\\xaa\\xe5\\x83'0\\xaa,\\xd5W\\x1bb{\\xff\\xb7\\xf1\\x0fz\\xa0\\xbf\\xf6\\xfe\\x01\\xdb\\xfal\\x04h\",\n",
       " b'Ti\\xbc\\x0f\\xf3\\x17\\xc2\\xa4q\\xff\\x83uqJM\\x93EE\\xa9\\xc0\\x9c\\x12c\\x1b\\xc1\\xcb\\xf9\\xd3\\x86\\x9e\\xb0\\x15b\\xf3jy\\xc5\\x1f%\\xaeU\\x16b\\xdeY\\xd4t/\\xb4P\\xba)f\\x00(\\x95QLFm\\xb4\\xc9\\x8d\\xd2\\xfcW\\xdd\\xb2\\xe6\\xa0\\xad[\\xe4\\xec\\x9c\\x99\\x7f\\x02\\xedI\\xf7y\\xe5W\\xa0p@\"\\x1a\\xeb\\x86\\xba<\\xb6\\xe8\\xc6t5\\xae:\\x81A\\x14x>\\xa8\\xbc\\xe0\\x13-\\xa7\\xb5\\xec\\xb6B\\xdb\\xeb}\\x14i',\n",
       " b\"Vc\\xbc\\x08\\xff\\n\\x85\\xebt\\xb7\\x96ou\\tJ\\x82E_\\xe7\\xce\\xc1\\x12dW\\xcd\\xd9\\xee\\xc1\\x9d\\x8b\\xad\\x05'\\xf2o \\x91\\x16.\\xefR\\nh\\xc0E\\x86\\x7fa\\xf8G\\xb1>w\\tp\\xd0A\\x04H(\\xa6\\xdf\\x80\\xd7\\xf6D\\xd4\\xef\"]"
      ]
     },
     "execution_count": 3,
     "metadata": {},
     "output_type": "execute_result"
    }
   ],
   "source": [
    "CHALLENGE_CIPHERTEXT = \"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\"\n",
    "ctxt_byte = bytes.fromhex(CHALLENGE_CIPHERTEXT)\n",
    "# print(ctxt_byte)\n",
    "n = 120\n",
    "list = [ctxt_byte[i:i+n] for i in range (0, len(ctxt_byte), n)]"
   ]
  },
  {
   "cell_type": "code",
   "execution_count": 54,
   "metadata": {},
   "outputs": [],
   "source": [
    "valid_chars = [i for i in range(97, 122)] + [32, 44, 46, 123, 125]"
   ]
  },
  {
   "cell_type": "code",
   "execution_count": 58,
   "metadata": {},
   "outputs": [],
   "source": [
    "key_array = [[] for i in range(0, 120)]\n",
    "for i in range(0, 120):\n",
    "   for key in range(0, 256):\n",
    "      valid_key = True\n",
    "      for elem in list: \n",
    "         if i < len(elem):\n",
    "            result = key ^ elem[i] \n",
    "            if result not in valid_chars:\n",
    "               valid_key = False\n",
    "               break\n",
    "      if valid_key:\n",
    "         key_array[i].append(key)\n",
    "\n"
   ]
  },
  {
   "cell_type": "code",
   "execution_count": 87,
   "metadata": {},
   "outputs": [
    {
     "ename": "IndexError",
     "evalue": "list index out of range",
     "output_type": "error",
     "traceback": [
      "\u001b[0;31m---------------------------------------------------------------------------\u001b[0m",
      "\u001b[0;31mIndexError\u001b[0m                                Traceback (most recent call last)",
      "\u001b[0;32m/var/folders/5_/2ynwkqdd04n_m5qz__41rb6c0000gn/T/ipykernel_67735/2934352226.py\u001b[0m in \u001b[0;36m<module>\u001b[0;34m\u001b[0m\n\u001b[1;32m      1\u001b[0m \u001b[0mkey\u001b[0m \u001b[0;34m=\u001b[0m \u001b[0;34m[\u001b[0m\u001b[0mi\u001b[0m\u001b[0;34m[\u001b[0m\u001b[0;36m0\u001b[0m\u001b[0;34m]\u001b[0m\u001b[0;34m.\u001b[0m\u001b[0mto_bytes\u001b[0m\u001b[0;34m(\u001b[0m\u001b[0;36m1\u001b[0m\u001b[0;34m,\u001b[0m \u001b[0;34m'little'\u001b[0m\u001b[0;34m)\u001b[0m \u001b[0;32mfor\u001b[0m \u001b[0mi\u001b[0m \u001b[0;32min\u001b[0m \u001b[0mkey_array\u001b[0m\u001b[0;34m]\u001b[0m\u001b[0;34m\u001b[0m\u001b[0;34m\u001b[0m\u001b[0m\n\u001b[0;32m----> 2\u001b[0;31m \u001b[0mkey\u001b[0m\u001b[0;34m[\u001b[0m\u001b[0;36m0\u001b[0m\u001b[0;34m]\u001b[0m \u001b[0;34m=\u001b[0m \u001b[0mkey_array\u001b[0m\u001b[0;34m[\u001b[0m\u001b[0;36m1\u001b[0m\u001b[0;34m]\u001b[0m\u001b[0;34m[\u001b[0m\u001b[0;36m1\u001b[0m\u001b[0;34m]\u001b[0m\u001b[0;34m.\u001b[0m\u001b[0mto_bytes\u001b[0m\u001b[0;34m(\u001b[0m\u001b[0;36m1\u001b[0m\u001b[0;34m,\u001b[0m \u001b[0;34m'little'\u001b[0m\u001b[0;34m)\u001b[0m\u001b[0;34m\u001b[0m\u001b[0;34m\u001b[0m\u001b[0m\n\u001b[0m\u001b[1;32m      3\u001b[0m \u001b[0mkey\u001b[0m \u001b[0;34m=\u001b[0m \u001b[0;34mb''\u001b[0m\u001b[0;34m.\u001b[0m\u001b[0mjoin\u001b[0m\u001b[0;34m(\u001b[0m\u001b[0mkey\u001b[0m\u001b[0;34m)\u001b[0m\u001b[0;34m\u001b[0m\u001b[0;34m\u001b[0m\u001b[0m\n",
      "\u001b[0;31mIndexError\u001b[0m: list index out of range"
     ]
    }
   ],
   "source": [
    "key = [i[0].to_bytes(1, 'little') for i in key_array]\n",
    "key[0] = key_array[1][1].to_bytes(1, 'little')\n",
    "key = b''.join(key)"
   ]
  },
  {
   "cell_type": "code",
   "execution_count": 84,
   "metadata": {},
   "outputs": [
    {
     "name": "stdout",
     "output_type": "stream",
     "text": [
      "in rouyalphabemkc sylstitution ripdirs wherk thi subsxitution alphmbets,are,chosen b} tjk usi cf a keyworh, the kasiski \n",
      "exaoiwation alumws m.cryptanalybt xc deduce.the,lengtd of the keywcrd. cnce,the lengph mh thi geyword is hiscovered, the\n",
      " cr{pmanalyst uknes,{p the ciphtrtitt in n moluans, wdere n is the,lengxh oj the keysorf  thin,each columb can be treate\n",
      "d aq mhe ciphekvext,af a monoalahanitic sub}titytion oipher. as suoh, emch oolumn caj bg.attmcged with friquency analysi\n",
      "s. qitilarly, njere,o rotor strtam,oipher mochibe has,been used, tdis mithoh may allkw vfe didyction of tde length of in\n",
      "divkdlal rotorj, thi.kasiski expmibmtion inxolvis looging for stribgs oj chmracters phav.are,ripeated in xhe ciphertext.\n",
      " thg jtrings sqmuld,le three chpraoxers loni or,more jor the examibatiob to,be succewsfwb. tdeb, the distmnces between c\n",
      "onsgcltive occlprenoks of the seribks are lgkelu to bi multiples oj the,lenkth of tha kgwworh.,thus findibg more repeate\n",
      "d svrpngs narrvus dcyn the possxbli,lengths.of xhe keuword, since {e cab tage the graatg}t ccmaon divisor,of all the dis\n",
      "tanaej. the rexqon xfis test wocks,es that gf a,repeaxed string ocours en tde plaintaxt..and,tde distance,between corres\n",
      "ponfiwg characmgrs e} a multiplt oj,the keyyord,lengtd, the keyworh letxers,will lina ur.in xhi same way {ith both occur\n",
      "renaej of the jvrink  flag{freqdenou analysgs ob repemted keystreaa}\n"
     ]
    }
   ],
   "source": [
    "for i in list:\n",
    "    print(xor(key, i).decode())"
   ]
  },
  {
   "cell_type": "code",
   "execution_count": null,
   "metadata": {},
   "outputs": [],
   "source": []
  }
 ],
 "metadata": {
  "kernelspec": {
   "display_name": "Python 3",
   "language": "python",
   "name": "python3"
  },
  "language_info": {
   "codemirror_mode": {
    "name": "ipython",
    "version": 3
   },
   "file_extension": ".py",
   "mimetype": "text/x-python",
   "name": "python",
   "nbconvert_exporter": "python",
   "pygments_lexer": "ipython3",
   "version": "3.7.3"
  },
  "orig_nbformat": 4,
  "vscode": {
   "interpreter": {
    "hash": "31f2aee4e71d21fbe5cf8b01ff0e069b9275f58929596ceb00d14d90e3e16cd6"
   }
  }
 },
 "nbformat": 4,
 "nbformat_minor": 2
}
