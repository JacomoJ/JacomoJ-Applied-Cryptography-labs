{
 "cells": [
  {
   "cell_type": "code",
   "execution_count": 7,
   "metadata": {},
   "outputs": [],
   "source": [
    "#!/usr/bin/env python3\n",
    "from Crypto.Util.number import long_to_bytes\n",
    "from Crypto.Random import get_random_bytes\n",
    "from Crypto.Hash import SHA256\n",
    "from Crypto.Cipher import AES\n",
    "\n",
    "import telnetlib\n",
    "import json\n",
    "\n",
    "# Change this to REMOTE = False if you are running against a local instance of the server\n",
    "REMOTE = True\n",
    "\n",
    "# Remember to change the port if you are re-using this client for other challenges\n",
    "PORT = 50401\n",
    "\n",
    "if REMOTE:\n",
    "    host = \"aclabs.ethz.ch\"\n",
    "else:\n",
    "    host = \"localhost\"\n",
    "\n",
    "tn = telnetlib.Telnet(host, PORT)\n",
    "\n",
    "def readline():\n",
    "    return tn.read_until(b\"\\n\")\n",
    "\n",
    "def json_recv():\n",
    "    line = readline()\n",
    "    return json.loads(line.decode())\n",
    "\n",
    "def json_send(req):\n",
    "    request = json.dumps(req).encode()\n",
    "    tn.write(request + b\"\\n\")\n",
    "    "
   ]
  },
  {
   "cell_type": "code",
   "execution_count": 8,
   "metadata": {},
   "outputs": [
    {
     "name": "stdout",
     "output_type": "stream",
     "text": [
      "b11d3e2df7e2e993668b38efea3e6f85c51f7b8f85f44cf2e90294a4e10449c159e022846735455a3784dac5b6b2b9659ea7e4f7aedfb0ae98a7ca9170f18f6f\n",
      "{'res': 'Hello jacomo, welcome to the AC lab coffee machine! Your role is: admin.'}\n",
      "{'res': 'Hi jacomo, we changed the settings for you!'}\n",
      "{'res': \"Mhhh, that's some good stuff... Here is a flag to go alongside it: flag{c0ff33_is_for_cl0sers_only9f43b79f9da5353a0e5531f857b13a69}\"}\n"
     ]
    }
   ],
   "source": [
    "username = 'jacomo&role=admin'\n",
    "favorite_coffee = 'espresso'\n",
    "\n",
    "# Register using injection\n",
    "json_send({\n",
    "    'command': 'register',\n",
    "    'username': username,\n",
    "    'favourite_coffee': favorite_coffee\n",
    "})\n",
    "token = json_recv()['token']\n",
    "\n",
    "# Login\n",
    "json_send({\n",
    "    'command': 'login',\n",
    "    'token': token\n",
    "})\n",
    "res = json_recv()\n",
    "\n",
    "# change settings\n",
    "json_send({\n",
    "    'command': 'change_settings',\n",
    "    'good_coffee': 'true'\n",
    "})\n",
    "res = json_recv()\n",
    "\n",
    "# get the flag\n",
    "json_send({\n",
    "    'command': 'get_coffee'\n",
    "})\n",
    "\n",
    "res = json_recv()\n",
    "print(res)"
   ]
  }
 ],
 "metadata": {
  "kernelspec": {
   "display_name": "Python 3",
   "language": "python",
   "name": "python3"
  },
  "language_info": {
   "codemirror_mode": {
    "name": "ipython",
    "version": 3
   },
   "file_extension": ".py",
   "mimetype": "text/x-python",
   "name": "python",
   "nbconvert_exporter": "python",
   "pygments_lexer": "ipython3",
   "version": "3.10.10"
  },
  "orig_nbformat": 4
 },
 "nbformat": 4,
 "nbformat_minor": 2
}
