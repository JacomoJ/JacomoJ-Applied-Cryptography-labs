{
 "cells": [
  {
   "cell_type": "code",
   "execution_count": 11,
   "metadata": {},
   "outputs": [],
   "source": [
    "#!/usr/bin/env python3\n",
    "from Crypto.Util.number import long_to_bytes\n",
    "from Crypto.Random import get_random_bytes\n",
    "from Crypto.Hash import SHA256\n",
    "from Crypto.Cipher import AES\n",
    "from passlib.hash import argon2\n",
    "import telnetlib\n",
    "import json\n",
    "\n",
    "# Change this to REMOTE = False if you are running against a local instance of the server\n",
    "REMOTE = True\n",
    "\n",
    "# Remember to change the port if you are re-using this client for other challenges\n",
    "PORT = 50501\n",
    "\n",
    "if REMOTE:\n",
    "    host = \"aclabs.ethz.ch\"\n",
    "else:\n",
    "    host = \"localhost\"\n",
    "\n",
    "tn = telnetlib.Telnet(host, PORT)\n",
    "\n",
    "def readline():\n",
    "    return tn.read_until(b\"\\n\")\n",
    "\n",
    "def json_recv():\n",
    "    line = readline()\n",
    "    return json.loads(line.decode())\n",
    "\n",
    "def json_send(req):\n",
    "    request = json.dumps(req).encode()\n",
    "    tn.write(request + b\"\\n\")\n",
    "    "
   ]
  },
  {
   "cell_type": "code",
   "execution_count": 12,
   "metadata": {},
   "outputs": [
    {
     "ename": "MissingBackendError",
     "evalue": "argon2: no backends available -- recommend you install one (e.g. 'pip install argon2_cffi')",
     "output_type": "error",
     "traceback": [
      "\u001b[0;31m---------------------------------------------------------------------------\u001b[0m",
      "\u001b[0;31mMissingBackendError\u001b[0m                       Traceback (most recent call last)",
      "Cell \u001b[0;32mIn[12], line 6\u001b[0m\n\u001b[1;32m      1\u001b[0m json_send({\n\u001b[1;32m      2\u001b[0m     \u001b[39m'\u001b[39m\u001b[39mcommand\u001b[39m\u001b[39m'\u001b[39m: \u001b[39m'\u001b[39m\u001b[39mpassword\u001b[39m\u001b[39m'\u001b[39m\n\u001b[1;32m      3\u001b[0m })\n\u001b[1;32m      5\u001b[0m pw \u001b[39m=\u001b[39m \u001b[39mbytes\u001b[39m\u001b[39m.\u001b[39mfromhex(json_recv()[\u001b[39m'\u001b[39m\u001b[39mres\u001b[39m\u001b[39m'\u001b[39m])\n\u001b[0;32m----> 6\u001b[0m guess \u001b[39m=\u001b[39m argon2\u001b[39m.\u001b[39;49mhash(pw)\n\u001b[1;32m      8\u001b[0m json_send({\n\u001b[1;32m      9\u001b[0m     \u001b[39m'\u001b[39m\u001b[39mcommand\u001b[39m\u001b[39m'\u001b[39m: \u001b[39m'\u001b[39m\u001b[39mguess\u001b[39m\u001b[39m'\u001b[39m,\n\u001b[1;32m     10\u001b[0m     \u001b[39m'\u001b[39m\u001b[39mguess\u001b[39m\u001b[39m'\u001b[39m: guess\u001b[39m.\u001b[39mhex()\n\u001b[1;32m     11\u001b[0m })\n\u001b[1;32m     13\u001b[0m \u001b[39mprint\u001b[39m(json_recv())\n",
      "File \u001b[0;32m/Library/Frameworks/Python.framework/Versions/3.10/lib/python3.10/site-packages/passlib/handlers/argon2.py:664\u001b[0m, in \u001b[0;36m_NoBackend.hash\u001b[0;34m(cls, secret)\u001b[0m\n\u001b[1;32m    662\u001b[0m \u001b[39m@classmethod\u001b[39m\n\u001b[1;32m    663\u001b[0m \u001b[39mdef\u001b[39;00m \u001b[39mhash\u001b[39m(\u001b[39mcls\u001b[39m, secret):\n\u001b[0;32m--> 664\u001b[0m     \u001b[39mcls\u001b[39;49m\u001b[39m.\u001b[39;49m_stub_requires_backend()\n\u001b[1;32m    665\u001b[0m     \u001b[39mreturn\u001b[39;00m \u001b[39mcls\u001b[39m\u001b[39m.\u001b[39mhash(secret)\n",
      "File \u001b[0;32m/Library/Frameworks/Python.framework/Versions/3.10/lib/python3.10/site-packages/passlib/utils/handlers.py:2254\u001b[0m, in \u001b[0;36mBackendMixin._stub_requires_backend\u001b[0;34m(cls)\u001b[0m\n\u001b[1;32m   2251\u001b[0m \u001b[39mif\u001b[39;00m \u001b[39mcls\u001b[39m\u001b[39m.\u001b[39m__backend:\n\u001b[1;32m   2252\u001b[0m     \u001b[39mraise\u001b[39;00m \u001b[39mAssertionError\u001b[39;00m(\u001b[39m\"\u001b[39m\u001b[39m%s\u001b[39;00m\u001b[39m: _finalize_backend(\u001b[39m\u001b[39m%r\u001b[39;00m\u001b[39m) failed to replace lazy loader\u001b[39m\u001b[39m\"\u001b[39m \u001b[39m%\u001b[39m\n\u001b[1;32m   2253\u001b[0m                          (\u001b[39mcls\u001b[39m\u001b[39m.\u001b[39mname, \u001b[39mcls\u001b[39m\u001b[39m.\u001b[39m__backend))\n\u001b[0;32m-> 2254\u001b[0m \u001b[39mcls\u001b[39;49m\u001b[39m.\u001b[39;49mset_backend()\n\u001b[1;32m   2255\u001b[0m \u001b[39mif\u001b[39;00m \u001b[39mnot\u001b[39;00m \u001b[39mcls\u001b[39m\u001b[39m.\u001b[39m__backend:\n\u001b[1;32m   2256\u001b[0m     \u001b[39mraise\u001b[39;00m \u001b[39mAssertionError\u001b[39;00m(\u001b[39m\"\u001b[39m\u001b[39m%s\u001b[39;00m\u001b[39m: set_backend() failed to load a default backend\u001b[39m\u001b[39m\"\u001b[39m \u001b[39m%\u001b[39m\n\u001b[1;32m   2257\u001b[0m                          (\u001b[39mcls\u001b[39m\u001b[39m.\u001b[39mname))\n",
      "File \u001b[0;32m/Library/Frameworks/Python.framework/Versions/3.10/lib/python3.10/site-packages/passlib/utils/handlers.py:2176\u001b[0m, in \u001b[0;36mBackendMixin.set_backend\u001b[0;34m(cls, name, dryrun)\u001b[0m\n\u001b[1;32m   2174\u001b[0m             msg \u001b[39m+\u001b[39m\u001b[39m=\u001b[39m \u001b[39mcls\u001b[39m\u001b[39m.\u001b[39m_no_backend_suggestion\n\u001b[1;32m   2175\u001b[0m         default_error \u001b[39m=\u001b[39m exc\u001b[39m.\u001b[39mMissingBackendError(msg)\n\u001b[0;32m-> 2176\u001b[0m     \u001b[39mraise\u001b[39;00m default_error\n\u001b[1;32m   2178\u001b[0m \u001b[39m# validate name\u001b[39;00m\n\u001b[1;32m   2179\u001b[0m \u001b[39mif\u001b[39;00m name \u001b[39mnot\u001b[39;00m \u001b[39min\u001b[39;00m \u001b[39mcls\u001b[39m\u001b[39m.\u001b[39mbackends:\n",
      "\u001b[0;31mMissingBackendError\u001b[0m: argon2: no backends available -- recommend you install one (e.g. 'pip install argon2_cffi')"
     ]
    }
   ],
   "source": [
    "json_send({\n",
    "    'command': 'password'\n",
    "})\n",
    "\n",
    "pw = bytes.fromhex(json_recv()['res'])\n",
    "guess = argon2.hash(pw)\n",
    "\n",
    "json_send({\n",
    "    'command': 'guess',\n",
    "    'guess': guess.hex()\n",
    "})\n",
    "\n",
    "print(json_recv())"
   ]
  }
 ],
 "metadata": {
  "kernelspec": {
   "display_name": "Python 3",
   "language": "python",
   "name": "python3"
  },
  "language_info": {
   "codemirror_mode": {
    "name": "ipython",
    "version": 3
   },
   "file_extension": ".py",
   "mimetype": "text/x-python",
   "name": "python",
   "nbconvert_exporter": "python",
   "pygments_lexer": "ipython3",
   "version": "3.10.10"
  },
  "orig_nbformat": 4
 },
 "nbformat": 4,
 "nbformat_minor": 2
}
