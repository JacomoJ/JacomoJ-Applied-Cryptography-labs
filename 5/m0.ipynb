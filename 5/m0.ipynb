{
 "cells": [
  {
   "cell_type": "code",
   "execution_count": 30,
   "metadata": {},
   "outputs": [],
   "source": [
    "#!/usr/bin/env python3\n",
    "from Crypto.Util.number import long_to_bytes\n",
    "from Crypto.Random import get_random_bytes\n",
    "from Crypto.Hash import SHA256, SHA1\n",
    "from Crypto.Cipher import AES\n",
    "from Crypto.Hash import MD5\n",
    "from Crypto.Hash import HMAC\n",
    "from Crypto.Protocol.KDF import scrypt\n",
    "\n",
    "PW = '6f6e696f6e732061726520736d656c6c79'\n",
    "SECRET = '6275742061726520617765736f6d6520f09f988b'\n",
    "SALT = '696e2061206e69636520736f6666726974746f21'\n",
    "\n",
    "# def onion(pw, salt):\n",
    "#   h1 = md5(pw)\n",
    "#   h2 = HMAC[SHA1](h1, salt)\n",
    "#   h3 = HMAC[SHA256](h2, SECRET)\n",
    "#   # Use n = 2**10, r = 32, p = 2, key_len = 64\n",
    "#   h4 = scrypt(h3, salt)\n",
    "#   h5 = HMAC[SHA256](h4, salt)\n",
    "#   return h5"
   ]
  },
  {
   "cell_type": "code",
   "execution_count": 36,
   "metadata": {},
   "outputs": [],
   "source": [
    "def onion(pw: bytes, salt: bytes) -> str:\n",
    "  pw_bytes = bytes.fromhex(pw)\n",
    "  salt_bytes = bytes.fromhex(salt)\n",
    "  h1 = MD5.new(pw_bytes).digest()\n",
    "  h2 = HMAC.new(key=salt_bytes, msg=h1, digestmod=SHA1).digest()\n",
    "  h3 = HMAC.new(key=bytes.fromhex(SECRET), msg=h2, digestmod=SHA256).digest()\n",
    "  h4 = scrypt(h3, salt_bytes, key_len=64, N=2**10, r=32, p=2)\n",
    "  h5 = HMAC.new(key=salt_bytes, msg=h4, digestmod=SHA256).digest()\n",
    "  return h5.hex()"
   ]
  },
  {
   "cell_type": "code",
   "execution_count": 37,
   "metadata": {},
   "outputs": [
    {
     "data": {
      "text/plain": [
       "'08734e6898b317cb2b760daddfba182e63cd5c92a03923edfac08a0efc480852'"
      ]
     },
     "execution_count": 37,
     "metadata": {},
     "output_type": "execute_result"
    }
   ],
   "source": [
    "onion(PW, SALT)"
   ]
  }
 ],
 "metadata": {
  "kernelspec": {
   "display_name": "Python 3",
   "language": "python",
   "name": "python3"
  },
  "language_info": {
   "codemirror_mode": {
    "name": "ipython",
    "version": 3
   },
   "file_extension": ".py",
   "mimetype": "text/x-python",
   "name": "python",
   "nbconvert_exporter": "python",
   "pygments_lexer": "ipython3",
   "version": "3.10.10"
  },
  "orig_nbformat": 4
 },
 "nbformat": 4,
 "nbformat_minor": 2
}
