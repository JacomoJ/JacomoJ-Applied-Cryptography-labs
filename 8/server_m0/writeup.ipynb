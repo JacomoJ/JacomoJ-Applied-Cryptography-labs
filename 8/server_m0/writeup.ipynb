{
 "cells": [
  {
   "cell_type": "code",
   "execution_count": 3,
   "metadata": {},
   "outputs": [],
   "source": [
    "#!/usr/bin/env python3\n",
    "from Crypto.Util.number import long_to_bytes\n",
    "from Crypto.Random import get_random_bytes\n",
    "from Crypto.Hash import SHA256\n",
    "from Crypto.Cipher import AES\n",
    "from Crypto.Util.Padding import pad, unpad\n",
    "\n",
    "import rsa\n",
    "\n",
    "import telnetlib\n",
    "import json\n",
    "\n",
    "BLOCK_SIZE = 16\n",
    "\n",
    "# Change this to REMOTE = False if you are running against a local instance of the server\n",
    "REMOTE = True\n",
    "\n",
    "# Remember to change the port if you are re-using this client for other challenges\n",
    "PORT = 50800\n",
    "\n",
    "if REMOTE:\n",
    "    host = \"aclabs.ethz.ch\"\n",
    "else:\n",
    "    host = \"localhost\"\n",
    "\n",
    "tn = telnetlib.Telnet(host, PORT)\n",
    "\n",
    "def readline():\n",
    "    return tn.read_until(b\"\\n\")\n",
    "\n",
    "def json_recv():\n",
    "    line = readline()\n",
    "    return json.loads(line.decode())\n",
    "\n",
    "def json_send(req):\n",
    "    request = json.dumps(req).encode()\n",
    "    tn.write(request + b\"\\n\")\n",
    "\n",
    "def xor(a: bytes, b: bytes) -> bytes:\n",
    "    return bytes(x ^ y for x, y in zip(a, b))   \n",
    "\n",
    "def blockify(a):\n",
    "    return [a[i : i + BLOCK_SIZE] for i in range(0, len(a), BLOCK_SIZE)]\n"
   ]
  },
  {
   "cell_type": "code",
   "execution_count": 4,
   "metadata": {},
   "outputs": [
    {
     "name": "stdout",
     "output_type": "stream",
     "text": [
      "{'res': 'RSA Parameters were successfully updated'}\n",
      "{'res': 'Here is your flag... oh no, it is RSA encrypted: 14084993352119985341877569799882321410323274424039371572324637586732484359789903142429948674059262756120484694195517732266493626952411016677959290026794729164944621771529815671373923160164703236837001339556319516728809931791060484160209353925143932115702005949293813832199188534855976391098768657568454447836653200039434631019248902162482755436417692529444539079603727423074212372479929050800544376816590468555767665765097573365164651201968493900545006983989026518191322900684272364165314946518936816225611660564213384346229789278225995425389034721427840585386225957159536780624337741901629804394446208059696471634176'}\n",
      "b'flag{d0_not_under_4ny_c1rcumstances_us3_textb00k_rsa}'\n"
     ]
    }
   ],
   "source": [
    "pk, sk, primes = rsa.rsa_key_gen()\n",
    "\n",
    "(N, e) = pk\n",
    "(N, d) = sk\n",
    "(p, q) = primes\n",
    "\n",
    "json_send({\n",
    "    'command': 'set_parameters',\n",
    "    'N': N,\n",
    "    'e': e,\n",
    "    'd': d,\n",
    "    'p': p,\n",
    "    'q': q\n",
    "})\n",
    "\n",
    "res = json_recv()\n",
    "\n",
    "print(res)\n",
    "\n",
    "json_send({\n",
    "    'command': 'encrypted_flag'\n",
    "})\n",
    "\n",
    "res = json_recv()\n",
    "print(res)\n",
    "\n",
    "flag = res['res'].split(':')\n",
    "c = int(flag[1])\n",
    "\n",
    "print('flag in ptxt: ', long_to_bytes(rsa.rsa_dec(sk, c)))"
   ]
  }
 ],
 "metadata": {
  "kernelspec": {
   "display_name": "Python 3",
   "language": "python",
   "name": "python3"
  },
  "language_info": {
   "codemirror_mode": {
    "name": "ipython",
    "version": 3
   },
   "file_extension": ".py",
   "mimetype": "text/x-python",
   "name": "python",
   "nbconvert_exporter": "python",
   "pygments_lexer": "ipython3",
   "version": "3.10.10"
  },
  "orig_nbformat": 4
 },
 "nbformat": 4,
 "nbformat_minor": 2
}
