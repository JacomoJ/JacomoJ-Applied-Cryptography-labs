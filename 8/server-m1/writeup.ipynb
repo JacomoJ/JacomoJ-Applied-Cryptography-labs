{
 "cells": [
  {
   "cell_type": "code",
   "execution_count": 55,
   "metadata": {},
   "outputs": [],
   "source": [
    "#!/usr/bin/env python3\n",
    "from Crypto.Util.number import long_to_bytes, bytes_to_long\n",
    "from Crypto.Random import get_random_bytes\n",
    "from Crypto.Hash import SHA256\n",
    "from Crypto.Cipher import AES\n",
    "from Crypto.Util.Padding import pad, unpad\n",
    "\n",
    "import rsa\n",
    "\n",
    "import telnetlib\n",
    "import json\n",
    "\n",
    "BLOCK_SIZE = 16\n",
    "\n",
    "# Change this to REMOTE = False if you are running against a local instance of the server\n",
    "REMOTE = False\n",
    "\n",
    "# Remember to change the port if you are re-using this client for other challenges\n",
    "PORT = 50801\n",
    "\n",
    "if REMOTE:\n",
    "    host = \"aclabs.ethz.ch\"\n",
    "else:\n",
    "    host = \"localhost\"\n",
    "\n",
    "tn = telnetlib.Telnet(host, PORT)\n",
    "\n",
    "def readline():\n",
    "    return tn.read_until(b\"\\n\")\n",
    "\n",
    "def json_recv():\n",
    "    line = readline()\n",
    "    return json.loads(line.decode())\n",
    "\n",
    "def json_send(req):\n",
    "    request = json.dumps(req).encode()\n",
    "    tn.write(request + b\"\\n\")\n",
    "\n",
    "def xor(a: bytes, b: bytes) -> bytes:\n",
    "    return bytes(x ^ y for x, y in zip(a, b))   \n",
    "\n",
    "def blockify(a):\n",
    "    return [a[i : i + BLOCK_SIZE] for i in range(0, len(a), BLOCK_SIZE)]\n"
   ]
  },
  {
   "cell_type": "code",
   "execution_count": 56,
   "metadata": {},
   "outputs": [
    {
     "ename": "EOFError",
     "evalue": "telnet connection closed",
     "output_type": "error",
     "traceback": [
      "\u001b[0;31m---------------------------------------------------------------------------\u001b[0m",
      "\u001b[0;31mEOFError\u001b[0m                                  Traceback (most recent call last)",
      "Cell \u001b[0;32mIn[56], line 21\u001b[0m\n\u001b[1;32m     14\u001b[0m c2 \u001b[39m=\u001b[39m \u001b[39mpow\u001b[39m(m2_int, e, N)\n\u001b[1;32m     16\u001b[0m json_send({\n\u001b[1;32m     17\u001b[0m     \u001b[39m'\u001b[39m\u001b[39mcommand\u001b[39m\u001b[39m'\u001b[39m: \u001b[39m'\u001b[39m\u001b[39mdecrypt\u001b[39m\u001b[39m'\u001b[39m,\n\u001b[1;32m     18\u001b[0m     \u001b[39m'\u001b[39m\u001b[39mciphertext\u001b[39m\u001b[39m'\u001b[39m: flag_int \u001b[39m+\u001b[39m c2\n\u001b[1;32m     19\u001b[0m })\n\u001b[0;32m---> 21\u001b[0m res \u001b[39m=\u001b[39m json_recv()\n\u001b[1;32m     23\u001b[0m \u001b[39mprint\u001b[39m(res)\n",
      "Cell \u001b[0;32mIn[55], line 34\u001b[0m, in \u001b[0;36mjson_recv\u001b[0;34m()\u001b[0m\n\u001b[1;32m     33\u001b[0m \u001b[39mdef\u001b[39;00m \u001b[39mjson_recv\u001b[39m():\n\u001b[0;32m---> 34\u001b[0m     line \u001b[39m=\u001b[39m readline()\n\u001b[1;32m     35\u001b[0m     \u001b[39mreturn\u001b[39;00m json\u001b[39m.\u001b[39mloads(line\u001b[39m.\u001b[39mdecode())\n",
      "Cell \u001b[0;32mIn[55], line 31\u001b[0m, in \u001b[0;36mreadline\u001b[0;34m()\u001b[0m\n\u001b[1;32m     30\u001b[0m \u001b[39mdef\u001b[39;00m \u001b[39mreadline\u001b[39m():\n\u001b[0;32m---> 31\u001b[0m     \u001b[39mreturn\u001b[39;00m tn\u001b[39m.\u001b[39;49mread_until(\u001b[39mb\u001b[39;49m\u001b[39m\"\u001b[39;49m\u001b[39m\\n\u001b[39;49;00m\u001b[39m\"\u001b[39;49m)\n",
      "File \u001b[0;32m/Library/Frameworks/Python.framework/Versions/3.10/lib/python3.10/telnetlib.py:329\u001b[0m, in \u001b[0;36mTelnet.read_until\u001b[0;34m(self, match, timeout)\u001b[0m\n\u001b[1;32m    327\u001b[0m             \u001b[39mif\u001b[39;00m timeout \u001b[39m<\u001b[39m \u001b[39m0\u001b[39m:\n\u001b[1;32m    328\u001b[0m                 \u001b[39mbreak\u001b[39;00m\n\u001b[0;32m--> 329\u001b[0m \u001b[39mreturn\u001b[39;00m \u001b[39mself\u001b[39m\u001b[39m.\u001b[39mread_very_lazy()\n",
      "File \u001b[0;32m/Library/Frameworks/Python.framework/Versions/3.10/lib/python3.10/telnetlib.py:405\u001b[0m, in \u001b[0;36mTelnet.read_very_lazy\u001b[0;34m(self)\u001b[0m\n\u001b[1;32m    403\u001b[0m \u001b[39mself\u001b[39m\u001b[39m.\u001b[39mcookedq \u001b[39m=\u001b[39m \u001b[39mb\u001b[39m\u001b[39m'\u001b[39m\u001b[39m'\u001b[39m\n\u001b[1;32m    404\u001b[0m \u001b[39mif\u001b[39;00m \u001b[39mnot\u001b[39;00m buf \u001b[39mand\u001b[39;00m \u001b[39mself\u001b[39m\u001b[39m.\u001b[39meof \u001b[39mand\u001b[39;00m \u001b[39mnot\u001b[39;00m \u001b[39mself\u001b[39m\u001b[39m.\u001b[39mrawq:\n\u001b[0;32m--> 405\u001b[0m     \u001b[39mraise\u001b[39;00m \u001b[39mEOFError\u001b[39;00m(\u001b[39m'\u001b[39m\u001b[39mtelnet connection closed\u001b[39m\u001b[39m'\u001b[39m)\n\u001b[1;32m    406\u001b[0m \u001b[39mreturn\u001b[39;00m buf\n",
      "\u001b[0;31mEOFError\u001b[0m: telnet connection closed"
     ]
    }
   ],
   "source": [
    "json_send({\n",
    "    'command': 'encrypted_flag'\n",
    "})\n",
    "\n",
    "res = json_recv()\n",
    "\n",
    "flag_enc = bytes.fromhex(res['encypted_flag'])\n",
    "flag_int = bytes_to_long(flag_enc)\n",
    "N = int(res['N'], 16)\n",
    "e = int(res['e'], 16)\n",
    "\n",
    "m2 = '_{other message}'\n",
    "m2_int = bytes_to_long(m2.encode())\n",
    "c2 = pow(m2_int, e, N)\n",
    "\n",
    "json_send({\n",
    "    'command': 'decrypt',\n",
    "    'ciphertext': flag_int + c2\n",
    "})\n",
    "\n",
    "res = json_recv()\n",
    "\n",
    "print(res)"
   ]
  },
  {
   "cell_type": "code",
   "execution_count": 54,
   "metadata": {},
   "outputs": [],
   "source": [
    "!python3 writeup.ipynb"
   ]
  }
 ],
 "metadata": {
  "kernelspec": {
   "display_name": "Python 3",
   "language": "python",
   "name": "python3"
  },
  "language_info": {
   "codemirror_mode": {
    "name": "ipython",
    "version": 3
   },
   "file_extension": ".py",
   "mimetype": "text/x-python",
   "name": "python",
   "nbconvert_exporter": "python",
   "pygments_lexer": "ipython3",
   "version": "3.10.10"
  },
  "orig_nbformat": 4
 },
 "nbformat": 4,
 "nbformat_minor": 2
}
