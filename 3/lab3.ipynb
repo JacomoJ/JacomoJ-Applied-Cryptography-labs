{
 "cells": [
  {
   "cell_type": "code",
   "execution_count": 43,
   "metadata": {},
   "outputs": [
    {
     "name": "stdout",
     "output_type": "stream",
     "text": [
      "{'res': 'flag{CongratsExceptionalWork}'}\n"
     ]
    }
   ],
   "source": [
    "#!/usr/bin/env python3\n",
    "# from https://cryptohack.org/challenges/introduction/\n",
    "\n",
    "import telnetlib\n",
    "import json\n",
    "\n",
    "tn = telnetlib.Telnet(\"aclabs.ethz.ch\", 50390)\n",
    "\n",
    "def readline():\n",
    "    return tn.read_until(b\"\\n\")\n",
    "\n",
    "def json_recv():\n",
    "    line = readline()\n",
    "    return json.loads(line.decode())\n",
    "\n",
    "def json_send(req):\n",
    "    request = json.dumps(req).encode()\n",
    "    tn.write(request + b\"\\n\")\n",
    "\n",
    "\n",
    "request = {\n",
    "    \"command\": \"hex_command\",\n",
    "    \"hex_command\": (b\"intro\" + b'\\x81').hex()\n",
    "}\n",
    "json_send(request)\n",
    "\n",
    "response = json_recv()\n",
    "\n",
    "print(response)\n"
   ]
  }
 ],
 "metadata": {
  "kernelspec": {
   "display_name": "Python 3",
   "language": "python",
   "name": "python3"
  },
  "language_info": {
   "codemirror_mode": {
    "name": "ipython",
    "version": 3
   },
   "file_extension": ".py",
   "mimetype": "text/x-python",
   "name": "python",
   "nbconvert_exporter": "python",
   "pygments_lexer": "ipython3",
   "version": "3.7.3"
  },
  "orig_nbformat": 4
 },
 "nbformat": 4,
 "nbformat_minor": 2
}
